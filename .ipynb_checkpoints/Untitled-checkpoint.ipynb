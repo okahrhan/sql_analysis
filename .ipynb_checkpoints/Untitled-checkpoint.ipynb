{
 "cells": [
  {
   "cell_type": "code",
   "execution_count": null,
   "id": "fadef2c7-fa5d-46b6-be9d-68925f421141",
   "metadata": {},
   "outputs": [],
   "source": [
    "import pandas as pd\n",
    "\n",
    "\n",
    "df = pd.read_csv('owid-covid-data.csv')\n",
    "columns_to_drop = [\n",
    "'new_tests', 'total_tests_per_thousand', 'new_tests_per_thousand', 'new_tests_smoothed',\n",
    "'new_tests_smoothed_per_thousand', 'positive_rate', 'tests_per_case', 'tests_units', \n",
    "'total_vaccinations', 'people_vaccinated', 'people_fully_vaccinated', 'total_boosters', \n",
    "'new_vaccinations_smoothed', 'total_vaccinations_per_hundred', \n",
    "'people_vaccinated_per_hundred', 'people_fully_vaccinated_per_hundred', \n",
    "'total_boosters_per_hundred', 'new_vaccinations_smoothed_per_million', \n",
    "'new_people_vaccinated_smoothed', 'new_people_vaccinated_smoothed_per_hundred', \n",
    "'stringency_index', 'population_density', 'median_age', 'aged_65_older', 'aged_70_older', \n",
    "'gdp_per_capita', 'extreme_poverty', 'cardiovasc_death_rate', 'diabetes_prevalence', \n",
    "'female_smokers', 'male_smokers', 'handwashing_facilities', 'hospital_beds_per_thousand', \n",
    "'life_expectancy', 'human_development_index', 'excess_mortality_cumulative_absolute', \n",
    "'excess_mortality_cumulative', 'excess_mortality', 'excess_mortality_cumulative_per_million'\n",
    "]\n",
    "df = df.drop(columns=columns_to_drop)\n",
    "df.to_csv('ocd_cleaned2.csv', index=False)\n",
    "print(\"successful\")\n"
   ]
  }
 ],
 "metadata": {
  "kernelspec": {
   "display_name": "Python 3 (ipykernel)",
   "language": "python",
   "name": "python3"
  },
  "language_info": {
   "codemirror_mode": {
    "name": "ipython",
    "version": 3
   },
   "file_extension": ".py",
   "mimetype": "text/x-python",
   "name": "python",
   "nbconvert_exporter": "python",
   "pygments_lexer": "ipython3",
   "version": "3.12.6"
  }
 },
 "nbformat": 4,
 "nbformat_minor": 5
}
